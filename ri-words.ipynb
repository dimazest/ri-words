{
 "cells": [
  {
   "cell_type": "markdown",
   "metadata": {},
   "source": [
    "# Vector space tutorial\n",
    "\n",
    "The goal of this tutorial is to show how word co-occurrence statistics can be used to build their vectors, such that words that are similar in meaning are also close in a vectorspace."
   ]
  },
  {
   "cell_type": "markdown",
   "metadata": {},
   "source": [
    "# Getting started "
   ]
  },
  {
   "cell_type": "markdown",
   "metadata": {},
   "source": [
    "This is a text cell."
   ]
  },
  {
   "cell_type": "code",
   "execution_count": null,
   "metadata": {
    "collapsed": false
   },
   "outputs": [],
   "source": [
    "# This is a code cell. It can be executed by pressing CTRL+Enter\n",
    "print('Hello')"
   ]
  },
  {
   "cell_type": "markdown",
   "metadata": {},
   "source": [
    "**Task**: modify the cell above so it greets you, in my case the cell output shold be `Hi, Dima`."
   ]
  },
  {
   "cell_type": "markdown",
   "metadata": {},
   "source": [
    "## Setting up the envinroment"
   ]
  },
  {
   "cell_type": "markdown",
   "metadata": {},
   "source": [
    "We need couple of things before getting started"
   ]
  },
  {
   "cell_type": "code",
   "execution_count": null,
   "metadata": {
    "collapsed": false,
    "slideshow": {
     "slide_type": "-"
    }
   },
   "outputs": [],
   "source": [
    "import warnings\n",
    "warnings.filterwarnings('ignore')\n",
    "\n",
    "import pandas\n",
    "pandas.options.display.max_columns = 11\n",
    "pandas.options.display.max_rows = 5\n",
    "\n",
    "import matplotlib\n",
    "matplotlib.rcParams['font.size'] = 15\n",
    "matplotlib.rcParams['figure.figsize'] = 15, 9\n",
    "matplotlib.rcParams['savefig.dpi'] = 227"
   ]
  },
  {
   "cell_type": "code",
   "execution_count": null,
   "metadata": {
    "collapsed": false
   },
   "outputs": [],
   "source": [
    "from random import sample\n",
    "from urllib.request import urlretrieve\n",
    "\n",
    "import pandas as pd\n",
    "import seaborn as sns  # Nicer plots, but needs to be installed!"
   ]
  },
  {
   "cell_type": "code",
   "execution_count": null,
   "metadata": {
    "collapsed": true
   },
   "outputs": [],
   "source": [
    "def get_space(url, key='space'):\n",
    "    \"\"\"Download the co-occurrence data.\"\"\"\n",
    "    frame_file, _ = urlretrieve(url)\n",
    "    return pd.read_hdf(frame_file, key=key)"
   ]
  },
  {
   "cell_type": "markdown",
   "metadata": {},
   "source": [
    "# A toy example\n",
    "\n",
    "To demonstrate the idea, we try to cluster few words by their meaning. The words are *boy*, *man*, *car*, *brother*, *uncle*, *son*, *father*, *dad*, *grandfather*, *cousin*, *parent*, *boss*, *owner*, *staff*, *adult*, *manager*, *director*, *person*, *kid*, *girl*, *woman*, *doll*, *sister*, *aunt*, *daughter*, *mother*, *mom*, *grandmother*, *idea*, *concept*, *notion*, *blue* and *pink*. \n",
    "\n",
    "**Task** How would you group this words? Are there words that share same theme?"
   ]
  },
  {
   "cell_type": "code",
   "execution_count": null,
   "metadata": {
    "collapsed": false
   },
   "outputs": [],
   "source": [
    "# Load the space into the memory\n",
    "toy_space = get_space(\n",
    "    'http://www.eecs.qmul.ac.uk/~dm303/static/eecs_open14/space_frame_eecs14.h5'\n",
    ")"
   ]
  },
  {
   "cell_type": "markdown",
   "metadata": {},
   "source": [
    "See some of the co-occrrence statistics"
   ]
  },
  {
   "cell_type": "code",
   "execution_count": null,
   "metadata": {
    "collapsed": true
   },
   "outputs": [],
   "source": [
    "# So far we are interested in just these words\n",
    "interesting_words = ['idea', 'notion', 'boy', 'girl']"
   ]
  },
  {
   "cell_type": "code",
   "execution_count": null,
   "metadata": {
    "collapsed": false,
    "slideshow": {
     "slide_type": "fragment"
    }
   },
   "outputs": [],
   "source": [
    "# Query the vector space for the words of interest\n",
    "toy_space.loc[interesting_words]"
   ]
  },
  {
   "cell_type": "markdown",
   "metadata": {},
   "source": [
    "this says us that *idea* was seen with *time* 258 times in the corpus I've used."
   ]
  },
  {
   "cell_type": "markdown",
   "metadata": {
    "slideshow": {
     "slide_type": "subslide"
    }
   },
   "source": [
    "## Distances between 'words'"
   ]
  },
  {
   "cell_type": "code",
   "execution_count": null,
   "metadata": {
    "collapsed": false,
    "slideshow": {
     "slide_type": "fragment"
    }
   },
   "outputs": [],
   "source": [
    "# We are going to use pairwise_distances function from the sklearn package\n",
    "from sklearn.metrics.pairwise import pairwise_distances\n",
    "\n",
    "# Compute distances for the words of interest\n",
    "distances = pairwise_distances(\n",
    "    toy_space.loc[interesting_words].values,\n",
    "    metric='cosine',\n",
    ")\n",
    "\n",
    "# Show the result\n",
    "np.round(\n",
    "    pd.DataFrame(distances, index=interesting_words, columns=interesting_words),\n",
    "    3,\n",
    ")"
   ]
  },
  {
   "cell_type": "markdown",
   "metadata": {},
   "source": [
    "**Task**: change `metric='cosine'` to `metric='euclidean'`. How will distances change? Why is cosine distance preferred to Euclidean?\n",
    "\n",
    "http://scikit-learn.org/stable/modules/generated/sklearn.metrics.pairwise.pairwise_distances.html"
   ]
  },
  {
   "cell_type": "markdown",
   "metadata": {
    "slideshow": {
     "slide_type": "subslide"
    }
   },
   "source": [
    "# Word similarity"
   ]
  },
  {
   "cell_type": "markdown",
   "metadata": {},
   "source": [
    "Similarity 1 means that items are identical, 0 means that they are different. It's possible to convert distances to similarities, we use `np.exp(-distances)` here."
   ]
  },
  {
   "cell_type": "code",
   "execution_count": null,
   "metadata": {
    "collapsed": false,
    "slideshow": {
     "slide_type": "fragment"
    }
   },
   "outputs": [],
   "source": [
    "# np.exp(-distances) is a fancy way of converting distances to similarities\n",
    "pd.DataFrame(np.exp(-distances), index=interesting_words, columns=interesting_words)"
   ]
  },
  {
   "cell_type": "markdown",
   "metadata": {},
   "source": [
    "## Projecting word vectors from 2000 dimensions to 2"
   ]
  },
  {
   "cell_type": "markdown",
   "metadata": {},
   "source": [
    "We are going to use scikit-learn's Manifold learning implementation."
   ]
  },
  {
   "cell_type": "code",
   "execution_count": null,
   "metadata": {
    "collapsed": false,
    "slideshow": {
     "slide_type": "subslide"
    }
   },
   "outputs": [],
   "source": [
    "from sklearn import manifold\n",
    "from sklearn.preprocessing import MinMaxScaler\n",
    "\n",
    "# clf will be able to \"project\" word vectors to 2 dimensions\n",
    "clf = manifold.MDS(n_components=2, dissimilarity='precomputed')\n",
    "\n",
    "# in X we store the projection results\n",
    "X = MinMaxScaler().fit_transform( # Normalize the values between 0 and 1 so it's easier to plot.\n",
    "    clf.fit_transform(pairwise_distances(toy_space.values, metric='cosine'))\n",
    ")"
   ]
  },
  {
   "cell_type": "markdown",
   "metadata": {},
   "source": [
    "Now we have word vector embedding to a low dimensional space!"
   ]
  },
  {
   "cell_type": "code",
   "execution_count": null,
   "metadata": {
    "collapsed": false,
    "slideshow": {
     "slide_type": "fragment"
    }
   },
   "outputs": [],
   "source": [
    "pd.DataFrame(X, index=toy_space.index)"
   ]
  },
  {
   "cell_type": "code",
   "execution_count": null,
   "metadata": {
    "collapsed": false,
    "slideshow": {
     "slide_type": "subslide"
    }
   },
   "outputs": [],
   "source": [
    "import pylab as pl\n",
    "\n",
    "pl.figure()\n",
    "\n",
    "for word, (x, y) in zip(toy_space.index, X):\n",
    "    pl.text(x, y, word)\n",
    "pl.tight_layout()"
   ]
  },
  {
   "cell_type": "markdown",
   "metadata": {},
   "source": [
    "**Task** Do the cluster you see align with your grouping of words?"
   ]
  },
  {
   "cell_type": "markdown",
   "metadata": {},
   "source": [
    "# A bigger example"
   ]
  },
  {
   "cell_type": "code",
   "execution_count": null,
   "metadata": {
    "collapsed": false
   },
   "outputs": [],
   "source": [
    "space = get_space(\n",
    "    'http://www.eecs.qmul.ac.uk/~dm303/static/data/bigo_matrix.h5.gz'\n",
    ")"
   ]
  },
  {
   "cell_type": "markdown",
   "metadata": {},
   "source": [
    "Just an example to see what we've got there."
   ]
  },
  {
   "cell_type": "code",
   "execution_count": null,
   "metadata": {
    "collapsed": false
   },
   "outputs": [],
   "source": [
    "space.loc[['John', 'Mary', 'girl', 'boy'], ['tree', 'car', 'face', 'England', 'France']]"
   ]
  },
  {
   "cell_type": "code",
   "execution_count": null,
   "metadata": {
    "collapsed": false
   },
   "outputs": [],
   "source": [
    "def plot(space, words, file_name=None):\n",
    "    \"\"\"Plot the `words` from the given `space`.\"\"\"\n",
    "    cooc = space.loc[words]\n",
    "\n",
    "    missing_words = list(cooc[cooc.isnull().all(axis=1)].index)\n",
    "    assert not missing_words, '{0} are not in the space'.format(missing_words)\n",
    "    \n",
    "    distances = pairwise_distances(cooc, metric='cosine')\n",
    "    \n",
    "    clf = manifold.MDS(n_components=2, dissimilarity='precomputed', n_jobs=2)\n",
    "    X = MinMaxScaler().fit_transform(\n",
    "        clf.fit_transform(distances)\n",
    "    )\n",
    "    \n",
    "    for word, (x, y) in zip(words, X):\n",
    "        pl.text(x, y, word)\n",
    "\n",
    "    pl.tight_layout()\n",
    "    \n",
    "    if file_name is not None:\n",
    "        pl.savefig(file_name)"
   ]
  },
  {
   "cell_type": "code",
   "execution_count": null,
   "metadata": {
    "collapsed": false
   },
   "outputs": [],
   "source": [
    "matplotlib.rcParams['font.size'] = 20\n",
    "x= plot(\n",
    "    space,\n",
    "    (\n",
    "        'red orange pink green blue white yellow black '\n",
    "        'mother father son daughter aunt uncle '\n",
    "        'concept research theory '\n",
    "        'car bus tube road bicycle train '\n",
    "        'karate fight fencing '\n",
    "        'apple company fruit train set '\n",
    "        ''.split()\n",
    "    )\n",
    ")"
   ]
  },
  {
   "cell_type": "markdown",
   "metadata": {},
   "source": [
    "## 1000 randomly selected words"
   ]
  },
  {
   "cell_type": "code",
   "execution_count": null,
   "metadata": {
    "collapsed": false
   },
   "outputs": [],
   "source": [
    "matplotlib.rcParams['font.size'] = 7\n",
    "plot(space, sample(list(space.index.values), 1000))"
   ]
  },
  {
   "cell_type": "markdown",
   "metadata": {
    "collapsed": false
   },
   "source": [
    "## A selection of words from 10000 most frequent"
   ]
  },
  {
   "cell_type": "code",
   "execution_count": null,
   "metadata": {
    "collapsed": false
   },
   "outputs": [],
   "source": [
    "most_frequent_words = (\n",
    "    space\n",
    "    .sum(axis=1)\n",
    "    .sort(ascending=False, inplace=False)\n",
    "    [:10000]\n",
    ")"
   ]
  },
  {
   "cell_type": "code",
   "execution_count": null,
   "metadata": {
    "collapsed": false
   },
   "outputs": [],
   "source": [
    "matplotlib.rcParams['font.size'] = 5\n",
    "plot(space, sample(list(most_frequent_words.index), 100))"
   ]
  },
  {
   "cell_type": "code",
   "execution_count": null,
   "metadata": {
    "collapsed": false
   },
   "outputs": [],
   "source": [
    "matplotlib.rcParams['font.size'] = 5\n",
    "plot(space, sample(list(most_frequent_words.index), 400))"
   ]
  },
  {
   "cell_type": "code",
   "execution_count": null,
   "metadata": {
    "collapsed": false
   },
   "outputs": [],
   "source": [
    "matplotlib.rcParams['font.size'] = 5\n",
    "plot(space, sample(list(most_frequent_words.index), 1600))"
   ]
  },
  {
   "cell_type": "code",
   "execution_count": null,
   "metadata": {
    "collapsed": true
   },
   "outputs": [],
   "source": []
  }
 ],
 "metadata": {
  "kernelspec": {
   "display_name": "Python 3",
   "language": "python",
   "name": "python3"
  },
  "language_info": {
   "codemirror_mode": {
    "name": "ipython",
    "version": 3
   },
   "file_extension": ".py",
   "mimetype": "text/x-python",
   "name": "python",
   "nbconvert_exporter": "python",
   "pygments_lexer": "ipython3",
   "version": "3.4.3"
  }
 },
 "nbformat": 4,
 "nbformat_minor": 0
}
